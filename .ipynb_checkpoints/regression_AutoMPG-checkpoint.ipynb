{
 "cells": [
  {
   "cell_type": "code",
   "execution_count": 30,
   "metadata": {},
   "outputs": [],
   "source": [
    "import matplotlib.pyplot as plt\n",
    "import numpy as np\n",
    "import pandas as pd\n",
    "\n",
    "seed = 42\n",
    "np.set_printoptions(precision=3, suppress=True)"
   ]
  },
  {
   "cell_type": "code",
   "execution_count": 33,
   "metadata": {},
   "outputs": [
    {
     "data": {
      "text/html": [
       "<div>\n",
       "<style scoped>\n",
       "    .dataframe tbody tr th:only-of-type {\n",
       "        vertical-align: middle;\n",
       "    }\n",
       "\n",
       "    .dataframe tbody tr th {\n",
       "        vertical-align: top;\n",
       "    }\n",
       "\n",
       "    .dataframe thead th {\n",
       "        text-align: right;\n",
       "    }\n",
       "</style>\n",
       "<table border=\"1\" class=\"dataframe\">\n",
       "  <thead>\n",
       "    <tr style=\"text-align: right;\">\n",
       "      <th></th>\n",
       "      <th>mpg</th>\n",
       "      <th>cylinders</th>\n",
       "      <th>displacement</th>\n",
       "      <th>horsepower</th>\n",
       "      <th>weight</th>\n",
       "      <th>acceleration</th>\n",
       "      <th>year</th>\n",
       "      <th>origin</th>\n",
       "    </tr>\n",
       "  </thead>\n",
       "  <tbody>\n",
       "    <tr>\n",
       "      <th>count</th>\n",
       "      <td>398.000000</td>\n",
       "      <td>398.000000</td>\n",
       "      <td>398.000000</td>\n",
       "      <td>392.000000</td>\n",
       "      <td>398.000000</td>\n",
       "      <td>398.000000</td>\n",
       "      <td>398.000000</td>\n",
       "      <td>398.000000</td>\n",
       "    </tr>\n",
       "    <tr>\n",
       "      <th>mean</th>\n",
       "      <td>23.514573</td>\n",
       "      <td>5.454774</td>\n",
       "      <td>193.425879</td>\n",
       "      <td>104.469388</td>\n",
       "      <td>2970.424623</td>\n",
       "      <td>15.568090</td>\n",
       "      <td>76.010050</td>\n",
       "      <td>1.572864</td>\n",
       "    </tr>\n",
       "    <tr>\n",
       "      <th>std</th>\n",
       "      <td>7.815984</td>\n",
       "      <td>1.701004</td>\n",
       "      <td>104.269838</td>\n",
       "      <td>38.491160</td>\n",
       "      <td>846.841774</td>\n",
       "      <td>2.757689</td>\n",
       "      <td>3.697627</td>\n",
       "      <td>0.802055</td>\n",
       "    </tr>\n",
       "    <tr>\n",
       "      <th>min</th>\n",
       "      <td>9.000000</td>\n",
       "      <td>3.000000</td>\n",
       "      <td>68.000000</td>\n",
       "      <td>46.000000</td>\n",
       "      <td>1613.000000</td>\n",
       "      <td>8.000000</td>\n",
       "      <td>70.000000</td>\n",
       "      <td>1.000000</td>\n",
       "    </tr>\n",
       "    <tr>\n",
       "      <th>25%</th>\n",
       "      <td>17.500000</td>\n",
       "      <td>4.000000</td>\n",
       "      <td>104.250000</td>\n",
       "      <td>75.000000</td>\n",
       "      <td>2223.750000</td>\n",
       "      <td>13.825000</td>\n",
       "      <td>73.000000</td>\n",
       "      <td>1.000000</td>\n",
       "    </tr>\n",
       "    <tr>\n",
       "      <th>50%</th>\n",
       "      <td>23.000000</td>\n",
       "      <td>4.000000</td>\n",
       "      <td>148.500000</td>\n",
       "      <td>93.500000</td>\n",
       "      <td>2803.500000</td>\n",
       "      <td>15.500000</td>\n",
       "      <td>76.000000</td>\n",
       "      <td>1.000000</td>\n",
       "    </tr>\n",
       "    <tr>\n",
       "      <th>75%</th>\n",
       "      <td>29.000000</td>\n",
       "      <td>8.000000</td>\n",
       "      <td>262.000000</td>\n",
       "      <td>126.000000</td>\n",
       "      <td>3608.000000</td>\n",
       "      <td>17.175000</td>\n",
       "      <td>79.000000</td>\n",
       "      <td>2.000000</td>\n",
       "    </tr>\n",
       "    <tr>\n",
       "      <th>max</th>\n",
       "      <td>46.600000</td>\n",
       "      <td>8.000000</td>\n",
       "      <td>455.000000</td>\n",
       "      <td>230.000000</td>\n",
       "      <td>5140.000000</td>\n",
       "      <td>24.800000</td>\n",
       "      <td>82.000000</td>\n",
       "      <td>3.000000</td>\n",
       "    </tr>\n",
       "  </tbody>\n",
       "</table>\n",
       "</div>"
      ],
      "text/plain": [
       "              mpg   cylinders  displacement  horsepower       weight  \\\n",
       "count  398.000000  398.000000    398.000000  392.000000   398.000000   \n",
       "mean    23.514573    5.454774    193.425879  104.469388  2970.424623   \n",
       "std      7.815984    1.701004    104.269838   38.491160   846.841774   \n",
       "min      9.000000    3.000000     68.000000   46.000000  1613.000000   \n",
       "25%     17.500000    4.000000    104.250000   75.000000  2223.750000   \n",
       "50%     23.000000    4.000000    148.500000   93.500000  2803.500000   \n",
       "75%     29.000000    8.000000    262.000000  126.000000  3608.000000   \n",
       "max     46.600000    8.000000    455.000000  230.000000  5140.000000   \n",
       "\n",
       "       acceleration        year      origin  \n",
       "count    398.000000  398.000000  398.000000  \n",
       "mean      15.568090   76.010050    1.572864  \n",
       "std        2.757689    3.697627    0.802055  \n",
       "min        8.000000   70.000000    1.000000  \n",
       "25%       13.825000   73.000000    1.000000  \n",
       "50%       15.500000   76.000000    1.000000  \n",
       "75%       17.175000   79.000000    2.000000  \n",
       "max       24.800000   82.000000    3.000000  "
      ]
     },
     "execution_count": 33,
     "metadata": {},
     "output_type": "execute_result"
    }
   ],
   "source": [
    "url = 'http://archive.ics.uci.edu/ml/machine-learning-databases/auto-mpg/auto-mpg.data'\n",
    "\n",
    "columns = [\"mpg\", \"cylinders\", \"displacement\", \"horsepower\", \"weight\", \"acceleration\", \"year\", \"origin\", \"name\"]\n",
    "\n",
    "raw_dataset = pd.read_csv(\n",
    "        url,\n",
    "        delim_whitespace=True,\n",
    "        na_values='?',\n",
    "        header=None,\n",
    "        names=columns)\n",
    "\n",
    "raw_dataset.describe()"
   ]
  },
  {
   "cell_type": "code",
   "execution_count": 37,
   "metadata": {},
   "outputs": [],
   "source": [
    "dataset_X = raw_dataset.drop(['mpg', 'name'], axis=1)\n",
    "dataset_Y = raw_dataset['mpg']"
   ]
  },
  {
   "cell_type": "code",
   "execution_count": 38,
   "metadata": {},
   "outputs": [],
   "source": [
    "dataset_X.isnull().any()\n",
    "\n",
    "dataset_X.fillna(dataset_X.mean(numeric_only=True), inplace=True)\n",
    "#dataset_X.isnull().any()"
   ]
  },
  {
   "cell_type": "code",
   "execution_count": 39,
   "metadata": {},
   "outputs": [],
   "source": [
    "training_mean = dataset_X.mean()\n",
    "training_std = dataset_X.std()\n",
    "dataset_X = (dataset_X - training_mean) / training_std\n",
    "\n",
    "# trainingY_mean = dataset_Y.mean()\n",
    "# trainingY_std = dataset_Y.std()\n",
    "# dataset_Y = (dataset_Y - trainingY_mean) / trainingY_std"
   ]
  },
  {
   "cell_type": "code",
   "execution_count": 40,
   "metadata": {},
   "outputs": [
    {
     "data": {
      "text/plain": [
       "(300, 98)"
      ]
     },
     "execution_count": 40,
     "metadata": {},
     "output_type": "execute_result"
    }
   ],
   "source": [
    "from sklearn.model_selection import train_test_split\n",
    "\n",
    "X_train, X_val, Y_train, Y_val = train_test_split(dataset_X, dataset_Y, test_size=0.245, random_state=seed)\n",
    "len(X_train), len(X_val)"
   ]
  },
  {
   "cell_type": "code",
   "execution_count": 41,
   "metadata": {},
   "outputs": [],
   "source": [
    "def get_metrics(pred, gt, unnormalized=False):\n",
    "    \n",
    "    if unnormalized:\n",
    "        pred = pred * trainingY_std + trainingY_mean\n",
    "        gt = gt * trainingY_std + trainingY_mean\n",
    "    \n",
    "    error = pred - gt\n",
    "    \n",
    "    MAE = sum(abs(pred - gt)) / len(gt)\n",
    "    MSE = sum((pred - gt) ** 2) / len(gt)\n",
    "    \n",
    "    return MAE, MSE"
   ]
  },
  {
   "cell_type": "markdown",
   "metadata": {},
   "source": [
    "### Linear regression"
   ]
  },
  {
   "cell_type": "code",
   "execution_count": 42,
   "metadata": {},
   "outputs": [
    {
     "name": "stdout",
     "output_type": "stream",
     "text": [
      "Train metrics:\n",
      "MAE: 2.58; MSE: 11.60\n",
      "Val metrics:\n",
      "MAE: 2.35; MSE: 9.13\n"
     ]
    }
   ],
   "source": [
    "import numpy as np\n",
    "import copy\n",
    "\n",
    "# Пример: X shape (N, D), y shape (N,)\n",
    "X = copy.deepcopy(X_train)\n",
    "y = copy.deepcopy(Y_train)\n",
    "\n",
    "# 1. Добавим столбец единиц (смещение)\n",
    "N = X.shape[0]\n",
    "X_ext = np.hstack([np.ones((N, 1)), X])  # shape (N, D+1)\n",
    "\n",
    "# 2. Считаем веса\n",
    "w_ext = np.linalg.inv(X_ext.T @ X_ext) @ X_ext.T @ y     # (D+1,)\n",
    "\n",
    "# 3. Предсказания\n",
    "y_pred = X_ext @ w_ext\n",
    "\n",
    "print('Train metrics:')\n",
    "mae, mse = get_metrics(y_pred, Y_train)\n",
    "print(f'MAE: {mae:.2f}; MSE: {mse:.2f}')\n",
    "\n",
    "print('Val metrics:')\n",
    "\n",
    "# inference\n",
    "X = copy.deepcopy(X_val)\n",
    "\n",
    "N = X.shape[0]\n",
    "X_ext = np.hstack([np.ones((N, 1)), X])\n",
    "y_pred = X_ext @ w_ext\n",
    "\n",
    "mae, mse = get_metrics(y_pred, Y_val)\n",
    "print(f'MAE: {mae:.2f}; MSE: {mse:.2f}')"
   ]
  },
  {
   "cell_type": "code",
   "execution_count": 43,
   "metadata": {},
   "outputs": [
    {
     "data": {
      "text/plain": [
       "(2.3454763093950644, 9.12712569116044)"
      ]
     },
     "execution_count": 43,
     "metadata": {},
     "output_type": "execute_result"
    }
   ],
   "source": [
    "from sklearn.linear_model import LinearRegression\n",
    "\n",
    "model = LinearRegression()\n",
    "model.fit(X_train, Y_train)\n",
    "\n",
    "pred = model.predict(X_val)\n",
    "get_metrics(pred, Y_val)"
   ]
  },
  {
   "cell_type": "markdown",
   "metadata": {},
   "source": [
    "### Catboost"
   ]
  },
  {
   "cell_type": "code",
   "execution_count": 44,
   "metadata": {},
   "outputs": [
    {
     "name": "stdout",
     "output_type": "stream",
     "text": [
      "Train metrics:\n",
      "MAE: 0.52; MSE: 0.43\n",
      "Val metrics:\n",
      "MAE: 1.57; MSE: 4.52\n"
     ]
    }
   ],
   "source": [
    "from catboost import CatBoostRegressor\n",
    "\n",
    "model = CatBoostRegressor(loss_function='RMSE', random_seed=seed, verbose=0, early_stopping_rounds=30)\n",
    "model.fit(X_train, Y_train)\n",
    "\n",
    "print('Train metrics:')\n",
    "pred = model.predict(X_train)\n",
    "mae, mse = get_metrics(pred, Y_train)\n",
    "print(f'MAE: {mae:.2f}; MSE: {mse:.2f}')\n",
    "\n",
    "print('Val metrics:')\n",
    "pred = model.predict(X_val)\n",
    "mae, mse = get_metrics(pred, Y_val)\n",
    "print(f'MAE: {mae:.2f}; MSE: {mse:.2f}')"
   ]
  },
  {
   "cell_type": "markdown",
   "metadata": {},
   "source": [
    "### MLP"
   ]
  },
  {
   "cell_type": "code",
   "execution_count": 45,
   "metadata": {},
   "outputs": [
    {
     "data": {
      "text/plain": [
       "((7, 32), (32,), (32, 1), (1,))"
      ]
     },
     "execution_count": 45,
     "metadata": {},
     "output_type": "execute_result"
    }
   ],
   "source": [
    "inp_size = 7\n",
    "mid_size = 32\n",
    "out_shape = 1\n",
    "\n",
    "limit = np.sqrt(6 / (inp_size + mid_size))\n",
    "W1 = np.random.uniform(-limit, limit, size=(inp_size, mid_size)).astype(np.float32)\n",
    "b1 = np.random.uniform(0, 1, size=(mid_size)).astype(np.float32) * 0.1\n",
    "\n",
    "limit = np.sqrt(6 / (mid_size + out_shape))\n",
    "W2 = np.random.uniform(-limit, limit, size=(mid_size, out_shape)).astype(np.float32)\n",
    "b2 = np.random.uniform(0, 1, size=(out_shape)).astype(np.float32) * 0.1\n",
    "\n",
    "W1.shape, b1.shape, W2.shape, b2.shape"
   ]
  },
  {
   "cell_type": "code",
   "execution_count": 46,
   "metadata": {},
   "outputs": [
    {
     "data": {
      "text/plain": [
       "289"
      ]
     },
     "execution_count": 46,
     "metadata": {},
     "output_type": "execute_result"
    }
   ],
   "source": [
    "parameters = [W1, b1, W2, b2]\n",
    "sum(p.size for p in parameters)"
   ]
  },
  {
   "cell_type": "code",
   "execution_count": 47,
   "metadata": {},
   "outputs": [],
   "source": [
    "# # utility function we will use later when comparing manual gradients to PyTorch gradients\n",
    "# def cmp(s, dt, t):\n",
    "#     ex = torch.all(dt == t.grad).item()\n",
    "#     app = torch.allclose(dt, t.grad)\n",
    "#     maxdiff = (dt - t.grad).abs().max().item()\n",
    "#     print(f'{s:15s} | exact: {str(ex):5s} | approximate: {str(app):5s} | maxdiff: {maxdiff}')"
   ]
  },
  {
   "cell_type": "code",
   "execution_count": 48,
   "metadata": {},
   "outputs": [],
   "source": [
    "import math\n",
    "\n",
    "_batch_size = 32\n",
    "_lr = 5e-2\n",
    "\n",
    "train_loss = []\n",
    "val_loss = []\n",
    "cur_eph = 0"
   ]
  },
  {
   "cell_type": "code",
   "execution_count": 49,
   "metadata": {},
   "outputs": [
    {
     "name": "stdout",
     "output_type": "stream",
     "text": [
      "---------- Epoch : 0 ----------\n",
      "train loss: 205.6700; mae: 10.6867; mse: 205.6700\n",
      "val loss: 13.7206; mae: 2.6421; mse: 13.7206\n",
      "---------- Epoch : 1 ----------\n",
      "train loss: 22.7255; mae: 3.6184; mse: 22.7255\n",
      "val loss: 17.7098; mae: 3.2336; mse: 17.7098\n",
      "---------- Epoch : 2 ----------\n",
      "train loss: 26.3732; mae: 4.0250; mse: 26.3732\n",
      "val loss: 12.4062; mae: 2.6005; mse: 12.4062\n",
      "---------- Epoch : 3 ----------\n",
      "train loss: 16.4572; mae: 3.0460; mse: 16.4572\n",
      "val loss: 9.5989; mae: 2.4219; mse: 9.5989\n",
      "---------- Epoch : 4 ----------\n",
      "train loss: 13.0197; mae: 2.7103; mse: 13.0197\n",
      "val loss: 8.6831; mae: 2.3476; mse: 8.6831\n",
      "---------- Epoch : 5 ----------\n",
      "train loss: 11.5028; mae: 2.5503; mse: 11.5028\n",
      "val loss: 7.9834; mae: 2.2663; mse: 7.9834\n",
      "---------- Epoch : 6 ----------\n",
      "train loss: 10.3726; mae: 2.4189; mse: 10.3726\n",
      "val loss: 7.4644; mae: 2.1987; mse: 7.4644\n",
      "---------- Epoch : 7 ----------\n",
      "train loss: 9.5691; mae: 2.3252; mse: 9.5691\n",
      "val loss: 7.1111; mae: 2.1555; mse: 7.1111\n",
      "---------- Epoch : 8 ----------\n",
      "train loss: 9.0404; mae: 2.2588; mse: 9.0404\n",
      "val loss: 6.8682; mae: 2.1199; mse: 6.8682\n",
      "---------- Epoch : 9 ----------\n",
      "train loss: 8.7105; mae: 2.2172; mse: 8.7105\n",
      "val loss: 6.6932; mae: 2.0878; mse: 6.6932\n",
      "---------- Epoch : 10 ----------\n",
      "train loss: 8.4775; mae: 2.1858; mse: 8.4775\n",
      "val loss: 6.5356; mae: 2.0586; mse: 6.5356\n",
      "---------- Epoch : 11 ----------\n",
      "train loss: 8.1986; mae: 2.1475; mse: 8.1986\n",
      "val loss: 6.2941; mae: 2.0315; mse: 6.2941\n",
      "---------- Epoch : 12 ----------\n",
      "train loss: 7.7144; mae: 2.0738; mse: 7.7144\n",
      "val loss: 5.9686; mae: 2.0112; mse: 5.9686\n",
      "---------- Epoch : 13 ----------\n",
      "train loss: 7.1828; mae: 1.9833; mse: 7.1828\n",
      "val loss: 5.7483; mae: 1.9889; mse: 5.7483\n",
      "---------- Epoch : 14 ----------\n",
      "train loss: 6.8807; mae: 1.9319; mse: 6.8807\n",
      "val loss: 5.6752; mae: 1.9748; mse: 5.6752\n",
      "---------- Epoch : 15 ----------\n",
      "train loss: 6.7677; mae: 1.9167; mse: 6.7677\n",
      "val loss: 5.6572; mae: 1.9682; mse: 5.6572\n",
      "---------- Epoch : 16 ----------\n",
      "train loss: 6.7336; mae: 1.9145; mse: 6.7336\n",
      "val loss: 5.6425; mae: 1.9632; mse: 5.6425\n",
      "---------- Epoch : 17 ----------\n",
      "train loss: 6.7100; mae: 1.9121; mse: 6.7100\n",
      "val loss: 5.6207; mae: 1.9572; mse: 5.6207\n",
      "---------- Epoch : 18 ----------\n",
      "train loss: 6.6654; mae: 1.9052; mse: 6.6654\n",
      "val loss: 5.5956; mae: 1.9500; mse: 5.5956\n",
      "---------- Epoch : 19 ----------\n",
      "train loss: 6.6021; mae: 1.8954; mse: 6.6021\n",
      "val loss: 5.5739; mae: 1.9447; mse: 5.5739\n",
      "---------- Epoch : 20 ----------\n",
      "train loss: 6.5345; mae: 1.8849; mse: 6.5345\n",
      "val loss: 5.5594; mae: 1.9413; mse: 5.5594\n",
      "---------- Epoch : 21 ----------\n",
      "train loss: 6.4704; mae: 1.8751; mse: 6.4704\n",
      "val loss: 5.5527; mae: 1.9391; mse: 5.5527\n",
      "---------- Epoch : 22 ----------\n",
      "train loss: 6.4094; mae: 1.8662; mse: 6.4094\n",
      "val loss: 5.5538; mae: 1.9381; mse: 5.5538\n",
      "---------- Epoch : 23 ----------\n",
      "train loss: 6.3486; mae: 1.8575; mse: 6.3486\n",
      "val loss: 5.5617; mae: 1.9380; mse: 5.5617\n",
      "---------- Epoch : 24 ----------\n",
      "train loss: 6.2862; mae: 1.8482; mse: 6.2862\n",
      "val loss: 5.5746; mae: 1.9383; mse: 5.5746\n",
      "---------- Epoch : 25 ----------\n",
      "train loss: 6.2224; mae: 1.8382; mse: 6.2224\n",
      "val loss: 5.5888; mae: 1.9386; mse: 5.5888\n",
      "---------- Epoch : 26 ----------\n",
      "train loss: 6.1588; mae: 1.8278; mse: 6.1588\n",
      "val loss: 5.6004; mae: 1.9374; mse: 5.6004\n",
      "---------- Epoch : 27 ----------\n",
      "train loss: 6.0982; mae: 1.8172; mse: 6.0982\n",
      "val loss: 5.6061; mae: 1.9352; mse: 5.6061\n",
      "---------- Epoch : 28 ----------\n",
      "train loss: 6.0429; mae: 1.8079; mse: 6.0429\n",
      "val loss: 5.6049; mae: 1.9314; mse: 5.6049\n",
      "---------- Epoch : 29 ----------\n",
      "train loss: 5.9939; mae: 1.7997; mse: 5.9939\n",
      "val loss: 5.5973; mae: 1.9261; mse: 5.5973\n"
     ]
    }
   ],
   "source": [
    "for e in range(cur_eph, cur_eph + 30):\n",
    "    print(f\"{'-' * 10} Epoch : {e} {'-' * 10}\")\n",
    "    cur_eph += 1\n",
    "    \n",
    "    losses = []\n",
    "    MSE = []\n",
    "    MAE = []\n",
    "    \n",
    "    for i in range(int(len(X_train) / _batch_size) + 1):\n",
    "        batch_idx = np.arange(_batch_size * i, min(_batch_size * (i + 1), len(X_train)))\n",
    "        \n",
    "        batch = X_train.values[batch_idx]\n",
    "        labels = np.expand_dims(Y_train.values[batch_idx], 1) # convert shape (32) to (32, 1)\n",
    "        \n",
    "        Z1 = batch @ W1 + b1\n",
    "        A1 = (math.e**Z1 - math.e**(-Z1)) / (math.e**Z1 + math.e**(-Z1)) # tanh(Z1)\n",
    "        out = (A1 @ W2 + b2)\n",
    "\n",
    "        loss = ((out - labels)**2).mean()\n",
    "                \n",
    "        delta = 2.0 * (out - labels) / len(labels)\n",
    "        \n",
    "        dW2 = A1.T @ delta\n",
    "        db2 = delta.sum(axis=0)\n",
    "        \n",
    "        dA1 = delta @ W2.T\n",
    "        dZ1 = dA1 * (1 - A1**2)\n",
    "        \n",
    "        dW1 = batch.T @ dZ1\n",
    "        db1 = dZ1.sum(axis=0)\n",
    "        \n",
    "        # checker\n",
    "        #cmp('w2', dW2, W2); cmp('b2', db2, b2); cmp('w1', dW1, W1); cmp('b1', db1, b1)\n",
    "        #parameters = [W1, b1, W2, b2]\n",
    "        \n",
    "        grads = [dW1, db1, dW2, db2]\n",
    "        \n",
    "        for param, grad in zip(parameters, grads):\n",
    "            #param.data += -_lr * param.grad\n",
    "            param += -_lr * grad\n",
    "\n",
    "        mae, mse = get_metrics(out, labels)\n",
    "        losses.append(loss)\n",
    "        MAE.append(mae[0])\n",
    "        MSE.append(mse[0])\n",
    "        \n",
    "    avgLoss = sum(losses) / len(losses)\n",
    "    avgMAE = sum(MAE) / len(MAE)\n",
    "    avgMSE = sum(MSE) / len(MSE)\n",
    "    train_loss.append(avgLoss)\n",
    "    print(f'train loss: {avgLoss:.4f}; mae: {avgMAE:.4f}; mse: {avgMSE:.4f}')\n",
    "    \n",
    "    losses = []\n",
    "    MSE = []\n",
    "    MAE = []\n",
    "    \n",
    "    for i in range(int(len(X_val) / _batch_size) + 1):\n",
    "        batch_idx = np.arange(_batch_size * i, min(_batch_size * (i + 1), len(X_val)))\n",
    "        \n",
    "        batch = X_val.values[batch_idx]\n",
    "        labels = np.expand_dims(Y_val.values[batch_idx], 1) # convert shape (32) to (32, 1)\n",
    "        \n",
    "        Z1 = batch @ W1 + b1\n",
    "        A1 = (math.e**Z1 - math.e**(-Z1)) / (math.e**Z1 + math.e**(-Z1)) # tanh(Z1)\n",
    "        out = (A1 @ W2 + b2)\n",
    "        \n",
    "        loss = ((out - labels)**2).mean()\n",
    "        losses.append(loss)\n",
    "        \n",
    "        mae, mse = get_metrics(out, labels)\n",
    "        MAE.append(mae[0])\n",
    "        MSE.append(mse[0])\n",
    "        \n",
    "    avgLoss = sum(losses) / len(losses)\n",
    "    avgMAE = sum(MAE) / len(MAE)\n",
    "    avgMSE = sum(MSE) / len(MSE)\n",
    "    val_loss.append(avgLoss)\n",
    "    print(f'val loss: {avgLoss:.4f}; mae: {avgMAE:.4f}; mse: {avgMSE:.4f}')"
   ]
  },
  {
   "cell_type": "code",
   "execution_count": 50,
   "metadata": {},
   "outputs": [
    {
     "data": {
      "text/plain": [
       "[<matplotlib.lines.Line2D at 0x27599a7e3b0>]"
      ]
     },
     "execution_count": 50,
     "metadata": {},
     "output_type": "execute_result"
    },
    {
     "data": {
      "image/png": "[encoded data removed]",
      "text/plain": [
       "<Figure size 640x480 with 1 Axes>"
      ]
     },
     "metadata": {},
     "output_type": "display_data"
    }
   ],
   "source": [
    "plt.plot(train_loss)"
   ]
  },
  {
   "cell_type": "code",
   "execution_count": 51,
   "metadata": {},
   "outputs": [
    {
     "data": {
      "text/plain": [
       "[<matplotlib.lines.Line2D at 0x27599beb1c0>]"
      ]
     },
     "execution_count": 51,
     "metadata": {},
     "output_type": "execute_result"
    },
    {
     "data": {
      "image/png": "[encoded data removed]",
      "text/plain": [
       "<Figure size 640x480 with 1 Axes>"
      ]
     },
     "metadata": {},
     "output_type": "display_data"
    }
   ],
   "source": [
    "plt.plot(val_loss)"
   ]
  },
  {
   "cell_type": "code",
   "execution_count": 68,
   "metadata": {},
   "outputs": [
    {
     "data": {
      "text/plain": [
       "mpg                                         13.0\n",
       "cylinders                                      8\n",
       "displacement                               307.0\n",
       "horsepower                                 130.0\n",
       "weight                                    4098.0\n",
       "acceleration                                14.0\n",
       "year                                          72\n",
       "origin                                         1\n",
       "name            chevrolet chevelle concours (sw)\n",
       "Name: 73, dtype: object"
      ]
     },
     "execution_count": 68,
     "metadata": {},
     "output_type": "execute_result"
    }
   ],
   "source": [
    "# inference \n",
    "\n",
    "idx = 73\n",
    "\n",
    "sample = raw_dataset.iloc[idx]\n",
    "sample"
   ]
  },
  {
   "cell_type": "code",
   "execution_count": 69,
   "metadata": {},
   "outputs": [],
   "source": [
    "car_info = sample[['cylinders', 'displacement', 'horsepower', 'weight', 'acceleration', 'year', 'origin']]\n",
    "car_mpg = sample['mpg']\n",
    "\n",
    "car_info = (car_info - training_mean) / training_std"
   ]
  },
  {
   "cell_type": "code",
   "execution_count": 70,
   "metadata": {},
   "outputs": [
    {
     "name": "stdout",
     "output_type": "stream",
     "text": [
      "pred: 11.87, gt: 13.0, error: 1.13\n"
     ]
    }
   ],
   "source": [
    "Z1 = car_info @ W1 + b1\n",
    "out = (math.e**Z1 - math.e**(-Z1)) / (math.e**Z1 + math.e**(-Z1)) # tahn\n",
    "out = (out @ W2 + b2)[0]\n",
    "#out = out * trainingY_std + trainingY_mean\n",
    "\n",
    "print(f'pred: {out:.2f}, gt: {car_mpg}, error: {abs(car_mpg - out):.2f}')"
   ]
  },
  {
   "cell_type": "code",
   "execution_count": null,
   "metadata": {},
   "outputs": [],
   "source": []
  }
 ],
 "metadata": {
  "kernelspec": {
   "display_name": "default",
   "language": "python",
   "name": "default"
  },
  "language_info": {
   "codemirror_mode": {
    "name": "ipython",
    "version": 3
   },
   "file_extension": ".py",
   "mimetype": "text/x-python",
   "name": "python",
   "nbconvert_exporter": "python",
   "pygments_lexer": "ipython3",
   "version": "3.10.16"
  }
 },
 "nbformat": 4,
 "nbformat_minor": 4
}
